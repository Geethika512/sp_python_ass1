{
 "cells": [
  {
   "cell_type": "markdown",
   "metadata": {},
   "source": [
    "## Question 1"
   ]
  },
  {
   "cell_type": "markdown",
   "metadata": {},
   "source": [
    "- `Take two integer numbers and return their product. If the product is greater than 1000, then return their sum if product is less than 1000 return product value only.`\n",
    "\n"
   ]
  },
  {
   "cell_type": "code",
   "execution_count": 4,
   "metadata": {},
   "outputs": [
    {
     "name": "stdout",
     "output_type": "stream",
     "text": [
      "1066\n"
     ]
    }
   ],
   "source": [
    "# Please write The solution Here for above question 1:\n",
    "def fun(a,b):\n",
    "    product = a * b\n",
    "    if product >1000:\n",
    "        return a+b\n",
    "    else:\n",
    "        return product\n",
    "a = 400\n",
    "b = 666\n",
    "result = fun(a,b)\n",
    "print(result)\n"
   ]
  },
  {
   "cell_type": "markdown",
   "metadata": {},
   "source": [
    "## question 2 "
   ]
  },
  {
   "cell_type": "markdown",
   "metadata": {},
   "source": [
    "- `Given a range of the first 10 numbers, Iterate from the start number to the end number, and In each iteration print the sum of the current number and previous number`\n",
    "\n",
    "Expected output:\n",
    "-----------------\n",
    "    Printing current and previous number sum in a range(10)\n",
    "    Current Number 0 Previous Number  0  Sum:  0\n",
    "    Current Number 1 Previous Number  0  Sum:  1\n",
    "    Current Number 2 Previous Number  1  Sum:  3\n",
    "    Current Number 3 Previous Number  2  Sum:  5\n",
    "    Current Number 4 Previous Number  3  Sum:  7\n",
    "    Current Number 5 Previous Number  4  Sum:  9\n",
    "    Current Number 6 Previous Number  5  Sum:  11\n",
    "    Current Number 7 Previous Number  6  Sum:  13\n",
    "    Current Number 8 Previous Number  7  Sum:  15\n",
    "    Current Number 9 Previous Number  8  Sum:  17"
   ]
  },
  {
   "cell_type": "code",
   "execution_count": 11,
   "metadata": {},
   "outputs": [
    {
     "name": "stdout",
     "output_type": "stream",
     "text": [
      "printing current and previous number sum in in a range 10\n",
      "current Number 0 previous Number 0 sum : 0\n",
      "current Number 1 previous Number 0 sum : 1\n",
      "current Number 2 previous Number 1 sum : 3\n",
      "current Number 3 previous Number 2 sum : 5\n",
      "current Number 4 previous Number 3 sum : 7\n",
      "current Number 5 previous Number 4 sum : 9\n",
      "current Number 6 previous Number 5 sum : 11\n",
      "current Number 7 previous Number 6 sum : 13\n",
      "current Number 8 previous Number 7 sum : 15\n",
      "current Number 9 previous Number 8 sum : 17\n"
     ]
    }
   ],
   "source": [
    "# Please write The solution Here for above question 2:\n",
    "previous_number = 0\n",
    "print(f'printing current and previous number sum in in a range 10')\n",
    "for i in range(0,10):\n",
    "    result = previous_number + i\n",
    "    print(f'current Number {i} previous Number {previous_number} sum : {result}')\n",
    "    previous_number = i"
   ]
  },
  {
   "cell_type": "markdown",
   "metadata": {},
   "source": [
    "## question 3 "
   ]
  },
  {
   "cell_type": "markdown",
   "metadata": {},
   "source": [
    "Given a string and an integer number n, remove characters from a string starting from zero up to n and return a new string\n",
    "\n",
    "- Example :\n",
    "     `(\"pynative\", 4) so output must be tive.`\n",
    "     \n",
    "     `Note: n must be less than the length of the string.`"
   ]
  },
  {
   "cell_type": "code",
   "execution_count": 10,
   "metadata": {},
   "outputs": [
    {
     "name": "stdout",
     "output_type": "stream",
     "text": [
      "tive\n"
     ]
    }
   ],
   "source": [
    "# Please write The solution Here for above question 3:\n",
    "a = 'pynative'\n",
    "b = 4\n",
    "if b < len(a):\n",
    "    c = a[b:]\n",
    "print(c)    "
   ]
  },
  {
   "cell_type": "markdown",
   "metadata": {},
   "source": [
    "## question 4"
   ]
  },
  {
   "cell_type": "markdown",
   "metadata": {},
   "source": [
    "### `Given a list of numbers, return True if first and last number of a list is same`\n",
    "\n",
    "    Expected Output:\n",
    "    -------------------------------------\n",
    "\n",
    "    Given list is \n",
    "    a =  [10, 20, 30, 40, 10]\n",
    "    b = [10 , 20 , 30 , 40, 10 ]\n",
    "    result is True\n",
    "\n",
    "    Given list is  \n",
    "    a = [10, 20, 30, 40, 50]\n",
    "    b = [11 , 21 , 31 , 41 , 51 ] \n",
    "    result is False"
   ]
  },
  {
   "cell_type": "code",
   "execution_count": 16,
   "metadata": {},
   "outputs": [
    {
     "name": "stdout",
     "output_type": "stream",
     "text": [
      "Given list is\n",
      "[10, 20, 30, 40, 10]\n",
      "[10, 20, 30, 40, 10]\n",
      "result is True\n",
      "\n",
      "Given list is\n",
      "[10, 20, 30, 40, 50]\n",
      "[11, 21, 31, 41, 51]\n",
      "result is False\n"
     ]
    }
   ],
   "source": [
    "# Please write The solution Here for above question 4:\n",
    "def first_last_number_list(l):\n",
    "    if l[0] == l[-1]:\n",
    "        return True\n",
    "    else:\n",
    "        return False   \n",
    "a = [10 , 20, 30, 40, 10]\n",
    "b = [10 , 20, 30, 40, 10]\n",
    "print (f'Given list is')\n",
    "print(a)\n",
    "print(b)\n",
    "print(f\"result is {first_last_number_list(a) and first_last_number_list(b)}\")\n",
    "print()\n",
    "a = [10, 20, 30, 40, 50]\n",
    "b = [11 , 21 , 31 , 41 , 51 ] \n",
    "print (f'Given list is')\n",
    "print(a)\n",
    "print(b)\n",
    "print(f\"result is {first_last_number_list(a) and first_last_number_list(b)}\")"
   ]
  },
  {
   "cell_type": "markdown",
   "metadata": {},
   "source": [
    "## question 5"
   ]
  },
  {
   "cell_type": "markdown",
   "metadata": {},
   "source": [
    "### Given a two Python list. Iterate both lists simultaneously such that list1 should display item in original order and list2 in reverse order\n",
    "\n",
    "    list1 = [10, 20, 30, 40]\n",
    "    list2 = [100, 200, 300, 400]\n",
    "\n",
    "\n",
    "    Expected output:\n",
    "    -----------------------------\n",
    "    10 400\n",
    "    20 300\n",
    "    30 200\n",
    "    40 100"
   ]
  },
  {
   "cell_type": "code",
   "execution_count": 22,
   "metadata": {},
   "outputs": [
    {
     "name": "stdout",
     "output_type": "stream",
     "text": [
      "10 400\n",
      "20 300\n",
      "30 200\n",
      "40 100\n"
     ]
    }
   ],
   "source": [
    "# Please write The solution Here for above question 5:\n",
    "a = [10, 20, 30, 40]\n",
    "b = [100, 200, 300, 400]\n",
    "for i in range (len(a)):s\n",
    "    print(a[i], b[len(b) - 1 - i])\n",
    "\n",
    "\n",
    "\n"
   ]
  },
  {
   "cell_type": "markdown",
   "metadata": {},
   "source": [
    "## question 6 "
   ]
  },
  {
   "cell_type": "markdown",
   "metadata": {},
   "source": [
    "### Remove empty strings from the list of strings\n",
    "\n",
    "\n",
    "    list1 = [\"Mike\", \"\", \"Emma\", \"Kelly\", \"\", \"Brad\"]\n",
    "\n",
    "    Expected output:\n",
    "    ----------------------\n",
    "\n",
    "    [\"Mike\", \"Emma\", \"Kelly\", \"Brad\"]\n"
   ]
  },
  {
   "cell_type": "code",
   "execution_count": 20,
   "metadata": {},
   "outputs": [
    {
     "name": "stdout",
     "output_type": "stream",
     "text": [
      "['Mike', 'Emma', 'Kelly', 'Brad']\n"
     ]
    }
   ],
   "source": [
    "# Please write The solution Here for above question 6:\n",
    "a = [\"Mike\", \"\", \"Emma\" , \"Kelly\" , \"\" , \"Brad\"]\n",
    "b = []\n",
    "for i in a:\n",
    "    if i :\n",
    "        b.append(i)\n",
    "print(b)\n",
    "    "
   ]
  },
  {
   "cell_type": "code",
   "execution_count": null,
   "metadata": {},
   "outputs": [],
   "source": []
  }
 ],
 "metadata": {
  "kernelspec": {
   "display_name": "Python 3 (ipykernel)",
   "language": "python",
   "name": "python3"
  },
  "language_info": {
   "codemirror_mode": {
    "name": "ipython",
    "version": 3
   },
   "file_extension": ".py",
   "mimetype": "text/x-python",
   "name": "python",
   "nbconvert_exporter": "python",
   "pygments_lexer": "ipython3",
   "version": "3.10.9"
  }
 },
 "nbformat": 4,
 "nbformat_minor": 4
}
