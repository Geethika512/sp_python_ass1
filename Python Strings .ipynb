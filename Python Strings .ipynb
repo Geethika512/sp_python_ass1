{
 "cells": [
  {
   "cell_type": "markdown",
   "id": "db689fc2",
   "metadata": {},
   "source": [
    "### Question 1: Write a Python program to count the number of characters in a string without using len function.\n",
    "\n",
    "- `sample input : `\n",
    "    - `var = 'python java'`\n",
    "- `sample output :`\n",
    "    - `result : 11`"
   ]
  },
  {
   "cell_type": "code",
   "execution_count": 1,
   "id": "c9ce9180",
   "metadata": {},
   "outputs": [
    {
     "name": "stdout",
     "output_type": "stream",
     "text": [
      "11\n"
     ]
    }
   ],
   "source": [
    "# Please write The solution Here for above question 1:\n",
    "str = 'python java'\n",
    "count = 0\n",
    "# to count no.of characters\n",
    "for i in str:\n",
    "    count = count + 1\n",
    "print(count)\n",
    "\n"
   ]
  },
  {
   "cell_type": "markdown",
   "id": "46f069cc",
   "metadata": {},
   "source": [
    "### Question 2: Write a Python program to reverse a string without using [::-1]\n",
    "\n",
    "- `sample input : `\n",
    "    - `var = 'python'`\n",
    "- `sample output :`\n",
    "    - `result : nohtyp`"
   ]
  },
  {
   "cell_type": "code",
   "execution_count": 2,
   "id": "2cde3dcc",
   "metadata": {},
   "outputs": [
    {
     "name": "stdout",
     "output_type": "stream",
     "text": [
      "nohtyp\n"
     ]
    }
   ],
   "source": [
    "# Please write The solution Here for above question 2:\n",
    "a = 'python'\n",
    "b = ''\n",
    "# to reverse the string\n",
    "for i in a :\n",
    "    b = i+b\n",
    "print(b)  \n",
    "\n"
   ]
  },
  {
   "cell_type": "markdown",
   "id": "0f3a2ef5",
   "metadata": {},
   "source": [
    "### Question 3: Write a Python program to check if a string is a palindrome don't use [::-1].\n",
    "\n",
    "- `sample input : `\n",
    "    - `var = 'NUN'`\n",
    "- `sample output :`\n",
    "    - `result : It is a Palindrome`\n",
    "    \n",
    "- `palindrome concept = https://www.dictionary.com/e/palindromic-word/#:~:text=A%20palindrome%20is%20a%20word,roots%20in%20the%20early%201600s.`"
   ]
  },
  {
   "cell_type": "code",
   "execution_count": 3,
   "id": "74b9f01a",
   "metadata": {},
   "outputs": [
    {
     "name": "stdout",
     "output_type": "stream",
     "text": [
      "It is a palindrome\n"
     ]
    }
   ],
   "source": [
    "# Please write The solution Here for above question 3:\n",
    "a = 'NUN'\n",
    "b = ''\n",
    "# to reverse thr str\n",
    "for i in a :\n",
    "    b = i+b\n",
    "# to check both the strings are palindrome or not    \n",
    "if a == b :\n",
    "    print(f\"It is a palindrome\")  \n",
    "else :\n",
    "    print(f\"It is not palindrome\")\n",
    "\n"
   ]
  },
  {
   "cell_type": "markdown",
   "id": "98e0fc60",
   "metadata": {},
   "source": [
    "### Question 4: Write a Python program to find the most common character in a string.\n",
    "\n",
    "- `sample input : `\n",
    "    - `var = 'Hello world '`\n",
    "- `sample output :`\n",
    "    - `result : l, because l is repeating 3 times `"
   ]
  },
  {
   "cell_type": "code",
   "execution_count": 4,
   "id": "d9aa4ca6",
   "metadata": {},
   "outputs": [
    {
     "name": "stdout",
     "output_type": "stream",
     "text": [
      "l,because l is repeated 3 times\n"
     ]
    }
   ],
   "source": [
    "# Please write The solution Here for above question 4:\n",
    "a = 'hello world'\n",
    "b = {}\n",
    "# to traverse the string and update the frequency\n",
    "for i in a :\n",
    "    if i in b:\n",
    "        b[i] = b[i] + 1\n",
    "    else:\n",
    "        b[i] = 1\n",
    "# to find most common character in string\n",
    "maximum_character = ''\n",
    "maximum_count = 0\n",
    "for i in a:\n",
    "    if  b[i] > maximum_count :\n",
    "         maximum_character = i\n",
    "         maximum_count = b[i]\n",
    "print(f\"{maximum_character},because {maximum_character} is repeated {maximum_count} times\")         \n",
    "        \n",
    "\n"
   ]
  },
  {
   "cell_type": "markdown",
   "id": "17eb44eb",
   "metadata": {},
   "source": [
    "### Question 5: Write a Python program to check if two strings are anagrams.\n",
    "\n",
    "- `sample input : `\n",
    "    - `var1 = 'listen'`\n",
    "    - `var2 = 'silent'`\n",
    "- `sample output :`\n",
    "    - `result : both are anagram because characters in var2 is in var1`"
   ]
  },
  {
   "cell_type": "code",
   "execution_count": 5,
   "id": "29f0e87e",
   "metadata": {},
   "outputs": [
    {
     "name": "stdout",
     "output_type": "stream",
     "text": [
      "both are anagram because characters in b is in a\n"
     ]
    }
   ],
   "source": [
    "# Please write The solution Here for above question 5:\n",
    "a = 'listen'\n",
    "b = 'silent'\n",
    "# created dictionaries in order to count characters\n",
    "count_a = {}\n",
    "count_b = {}\n",
    "# count characters for string a\n",
    "for i in a:\n",
    "    if i in count_a:\n",
    "        count_a[i] = count_a[i] + 1\n",
    "    else:\n",
    "        count_a[i] = 1\n",
    "#count characters for string b    \n",
    "for i in b:\n",
    "    if i in count_b:\n",
    "        count_b[i] = count_b[i] + 1\n",
    "    else:\n",
    "        count_b[i] = 1\n",
    " # Compare character counts\n",
    "if count_a == count_b:\n",
    "        print(f\"both are anagram because characters in b is in a\")\n"
   ]
  },
  {
   "cell_type": "markdown",
   "id": "fac17884",
   "metadata": {},
   "source": [
    "### Question 6: Write a Python program to remove all the vowels from a string.\n",
    "\n",
    "- `sample input : `\n",
    "    - `var = 'python'`\n",
    "- `sample output :`\n",
    "    - `result : pythn , because vowels are [AEIOUaeiou]`"
   ]
  },
  {
   "cell_type": "code",
   "execution_count": 8,
   "id": "f4b33095",
   "metadata": {},
   "outputs": [
    {
     "name": "stdout",
     "output_type": "stream",
     "text": [
      "pythn\n"
     ]
    }
   ],
   "source": [
    "# Please write The solution Here for above question 6:\n",
    "a = 'python'\n",
    "vowels = 'AEIOUaeiou'\n",
    "result = ''\n",
    "# to remove all the vowels\n",
    "for i in a:\n",
    "    if i not in vowels :\n",
    "        result = result + i\n",
    "print(result)        \n",
    "\n",
    "\n"
   ]
  },
  {
   "cell_type": "markdown",
   "id": "2170d6f4",
   "metadata": {},
   "source": [
    "### Question 7: Write a Python program to find the longest word in a string.\n",
    "\n",
    "- `sample input : `\n",
    "    - `var = 'python is Easy Language'`\n",
    "- `sample output :`\n",
    "    - `result : Language`"
   ]
  },
  {
   "cell_type": "code",
   "execution_count": 9,
   "id": "f35de8b3",
   "metadata": {},
   "outputs": [
    {
     "name": "stdout",
     "output_type": "stream",
     "text": [
      "Language\n"
     ]
    }
   ],
   "source": [
    "# Please write The solution Here for above question 7:\n",
    "a = 'Python is a Easy Language'\n",
    "# Split the string into words\n",
    "b = a.split()\n",
    "\n",
    "# Initialize variables to store the longest word and its length\n",
    "longest_word = ''\n",
    "count = 0\n",
    "\n",
    "# Iterate over each word in the list b\n",
    "for i in b:\n",
    "    if len(i) > count:\n",
    "        longest_word = i\n",
    "        count = len(i)\n",
    "\n",
    "# Print the result\n",
    "print(longest_word)\n"
   ]
  },
  {
   "cell_type": "markdown",
   "id": "f349bdb7",
   "metadata": {},
   "source": [
    "### Question 8: Write a Python program to capitalize the first letter of each word in a string [dont use built-in-function title].\n",
    "\n",
    "- `sample input : `\n",
    "    - `var = 'python is easy'`\n",
    "- `sample output :`\n",
    "    - `result : Python Is Easy`"
   ]
  },
  {
   "cell_type": "code",
   "execution_count": 10,
   "id": "a1b4c4e6",
   "metadata": {},
   "outputs": [
    {
     "name": "stdout",
     "output_type": "stream",
     "text": [
      "Python Is Easy \n"
     ]
    }
   ],
   "source": [
    "# Please write The solution Here for above question 8:\n",
    "a = 'python is easy '\n",
    "b = a.split()\n",
    "result = ''\n",
    "for i in b:\n",
    "    result = result + i[0].upper() + i[1:] + ' '\n",
    "print(result)\n"
   ]
  },
  {
   "cell_type": "markdown",
   "id": "d2770696",
   "metadata": {},
   "source": [
    "### Question 9: Write a Python program to find the frequency of each character in a string.\n",
    "\n",
    "- `sample input : `\n",
    "    - `var = 'sharuk khan'`\n",
    "- `sample output :`\n",
    "    - `result : {'s': 1, 'h': 2, 'a': 2, 'r': 1, 'u': 1, 'k': 2, ' ': 1, 'n': 1}`"
   ]
  },
  {
   "cell_type": "code",
   "execution_count": 11,
   "id": "7fdc2e9c",
   "metadata": {},
   "outputs": [
    {
     "name": "stdout",
     "output_type": "stream",
     "text": [
      "{'s': 1, 'h': 2, 'a': 2, 'r': 1, 'u': 1, 'k': 2, ' ': 1, 'n': 1}\n"
     ]
    }
   ],
   "source": [
    "# Please write The solution Here for above question 9:\n",
    "a = 'sharuk khan'\n",
    "b = {}\n",
    "# to traverse the string and update the frequency\n",
    "for i in a :\n",
    "    if i in b:\n",
    "        b[i] = b[i] + 1\n",
    "    else:\n",
    "        b[i] = 1\n",
    "print(b)        \n",
    "\n"
   ]
  },
  {
   "cell_type": "markdown",
   "id": "5c9a3f09",
   "metadata": {},
   "source": [
    "### Question 10: write a python programme to find the sum of all the even characters based on Ascii values\n",
    "\n",
    "- `sample input : `\n",
    "    - `var = 'sharuk khan'`\n",
    "- `sample output :`\n",
    "    - `result : 464`\n"
   ]
  },
  {
   "cell_type": "code",
   "execution_count": 4,
   "id": "57c0c30e",
   "metadata": {},
   "outputs": [
    {
     "name": "stdout",
     "output_type": "stream",
     "text": [
      "464\n"
     ]
    }
   ],
   "source": [
    "# Please write The solution Here for above question 10:\n",
    "a = 'sharuk khan'\n",
    "result = 0\n",
    "for i in a:\n",
    "# to check the ascii value is even the add\n",
    "    if ord(i)%2 == 0:\n",
    "        result = result + ord(i)\n",
    "print(result)        \n",
    "    \n",
    "\n"
   ]
  },
  {
   "cell_type": "code",
   "execution_count": null,
   "id": "0cb2936c",
   "metadata": {},
   "outputs": [],
   "source": []
  }
 ],
 "metadata": {
  "kernelspec": {
   "display_name": "Python 3 (ipykernel)",
   "language": "python",
   "name": "python3"
  },
  "language_info": {
   "codemirror_mode": {
    "name": "ipython",
    "version": 3
   },
   "file_extension": ".py",
   "mimetype": "text/x-python",
   "name": "python",
   "nbconvert_exporter": "python",
   "pygments_lexer": "ipython3",
   "version": "3.10.9"
  }
 },
 "nbformat": 4,
 "nbformat_minor": 5
}
